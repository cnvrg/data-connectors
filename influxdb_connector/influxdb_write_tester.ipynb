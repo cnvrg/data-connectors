{
 "cells": [
  {
   "cell_type": "code",
   "execution_count": 16,
   "id": "bbd580f6-34c8-4e15-8798-42eef4f65f50",
   "metadata": {},
   "outputs": [],
   "source": [
    "import influxdb_client, os, time\n",
    "from influxdb_client import InfluxDBClient, Point, WritePrecision\n",
    "from influxdb_client.client.write_api import SYNCHRONOUS\n",
    "# from influxdb_connector import Influxdb\n",
    "import pandas as pd\n"
   ]
  },
  {
   "cell_type": "markdown",
   "id": "356b0ac3-6fe2-46b1-b39b-dccc7462d75c",
   "metadata": {
    "tags": []
   },
   "source": [
    "# Read csv file into pd dataFrame"
   ]
  },
  {
   "cell_type": "code",
   "execution_count": 20,
   "id": "9ec05b31-269a-40b8-b561-bbd578c5665b",
   "metadata": {},
   "outputs": [
    {
     "data": {
      "text/html": [
       "<div>\n",
       "<style scoped>\n",
       "    .dataframe tbody tr th:only-of-type {\n",
       "        vertical-align: middle;\n",
       "    }\n",
       "\n",
       "    .dataframe tbody tr th {\n",
       "        vertical-align: top;\n",
       "    }\n",
       "\n",
       "    .dataframe thead th {\n",
       "        text-align: right;\n",
       "    }\n",
       "</style>\n",
       "<table border=\"1\" class=\"dataframe\">\n",
       "  <thead>\n",
       "    <tr style=\"text-align: right;\">\n",
       "      <th></th>\n",
       "      <th>date</th>\n",
       "      <th>meantemp</th>\n",
       "      <th>humidity</th>\n",
       "      <th>wind_speed</th>\n",
       "      <th>meanpressure</th>\n",
       "    </tr>\n",
       "  </thead>\n",
       "  <tbody>\n",
       "    <tr>\n",
       "      <th>0</th>\n",
       "      <td>2017-01-01</td>\n",
       "      <td>15.913043</td>\n",
       "      <td>85.869565</td>\n",
       "      <td>2.743478</td>\n",
       "      <td>59.000000</td>\n",
       "    </tr>\n",
       "    <tr>\n",
       "      <th>1</th>\n",
       "      <td>2017-01-02</td>\n",
       "      <td>NaN</td>\n",
       "      <td>77.222222</td>\n",
       "      <td>NaN</td>\n",
       "      <td>1018.277778</td>\n",
       "    </tr>\n",
       "    <tr>\n",
       "      <th>2</th>\n",
       "      <td>2017-01-03</td>\n",
       "      <td>NaN</td>\n",
       "      <td>81.888889</td>\n",
       "      <td>4.016667</td>\n",
       "      <td>1018.333333</td>\n",
       "    </tr>\n",
       "    <tr>\n",
       "      <th>3</th>\n",
       "      <td>2017-01-04</td>\n",
       "      <td>18.700000</td>\n",
       "      <td>70.050000</td>\n",
       "      <td>NaN</td>\n",
       "      <td>NaN</td>\n",
       "    </tr>\n",
       "    <tr>\n",
       "      <th>4</th>\n",
       "      <td>2017-01-05</td>\n",
       "      <td>18.388889</td>\n",
       "      <td>74.944444</td>\n",
       "      <td>3.300000</td>\n",
       "      <td>1014.333333</td>\n",
       "    </tr>\n",
       "  </tbody>\n",
       "</table>\n",
       "</div>"
      ],
      "text/plain": [
       "         date   meantemp   humidity  wind_speed  meanpressure\n",
       "0  2017-01-01  15.913043  85.869565    2.743478     59.000000\n",
       "1  2017-01-02        NaN  77.222222         NaN   1018.277778\n",
       "2  2017-01-03        NaN  81.888889    4.016667   1018.333333\n",
       "3  2017-01-04  18.700000  70.050000         NaN           NaN\n",
       "4  2017-01-05  18.388889  74.944444    3.300000   1014.333333"
      ]
     },
     "metadata": {},
     "output_type": "display_data"
    }
   ],
   "source": [
    "csvfile = \"DailyDelhiClimateMissing.csv\"\n",
    "df = pd.read_csv(csvfile, sep=\",\", engine='python',index_col=False)\n",
    "\n",
    "display(df.head(5))"
   ]
  },
  {
   "cell_type": "markdown",
   "id": "5f112f27-32fb-44de-aca9-f849c290ce50",
   "metadata": {},
   "source": [
    "# Convert date into linux timestamp. "
   ]
  },
  {
   "cell_type": "code",
   "execution_count": 22,
   "id": "f6b8dea3-f17f-472b-89fd-0689475f1a14",
   "metadata": {},
   "outputs": [
    {
     "name": "stdout",
     "output_type": "stream",
     "text": [
      "Index(['date', 'meantemp', 'humidity', 'wind_speed', 'meanpressure'], dtype='object')\n"
     ]
    }
   ],
   "source": [
    "df['date'] = pd.to_datetime(df['date'])\n",
    "print(df.columns)"
   ]
  },
  {
   "cell_type": "markdown",
   "id": "4d8a4d6f-cf1d-414c-9670-bc49c5e88749",
   "metadata": {},
   "source": [
    "# Initialize InfluxDB"
   ]
  },
  {
   "cell_type": "code",
   "execution_count": 23,
   "id": "c8569eed-5948-4971-b3a7-9288d8052a3d",
   "metadata": {},
   "outputs": [],
   "source": [
    "# arguments used for influxdb api\n",
    "token = \"aSccp32TgHYEOV0Ztt1ZeuyCHSs0-rlVBxmRTX69dsD5yO7_Bxj4CXnz4DSX0iKgzaTTaJC8jdH8iMaOEZy5Gw==\"\n",
    "org = \"kris1.pan@intel.com\"\n",
    "url = \"https://us-east-1-1.aws.cloud2.influxdata.com\"\n",
    "bucket = \"test\"\n",
    "measurement = \"t3\"\n",
    "range_start = \"-10y\"\n",
    "range_end = \"now()\"\n",
    "time_col = \"date\"\n",
    "\n",
    "client = InfluxDBClient(url=url, token=token , org=org)"
   ]
  },
  {
   "cell_type": "markdown",
   "id": "86500dfd-4ba5-42fd-9951-8c5e60062258",
   "metadata": {},
   "source": [
    "# Write df into InfluxDB"
   ]
  },
  {
   "cell_type": "code",
   "execution_count": 24,
   "id": "260c8339-ffda-4824-989e-7839673b5e11",
   "metadata": {},
   "outputs": [
    {
     "name": "stdout",
     "output_type": "stream",
     "text": [
      "done\n"
     ]
    }
   ],
   "source": [
    "with InfluxDBClient(url=url, token=token, org=org) as client:\n",
    "    client.write_api(write_options=SYNCHRONOUS).write(bucket=bucket, record=df, data_frame_measurement_name=measurement, data_frame_timestamp_column=time_col)\n",
    "    print('done')"
   ]
  },
  {
   "cell_type": "markdown",
   "id": "d84a45ac-806b-4a0c-affa-2b2309400e6e",
   "metadata": {},
   "source": [
    "# Query Pandas df from InfluxDB"
   ]
  },
  {
   "cell_type": "code",
   "execution_count": 25,
   "id": "89cbfd01-5f9d-47fc-b767-4045b1a987f9",
   "metadata": {},
   "outputs": [
    {
     "data": {
      "text/html": [
       "<div>\n",
       "<style scoped>\n",
       "    .dataframe tbody tr th:only-of-type {\n",
       "        vertical-align: middle;\n",
       "    }\n",
       "\n",
       "    .dataframe tbody tr th {\n",
       "        vertical-align: top;\n",
       "    }\n",
       "\n",
       "    .dataframe thead th {\n",
       "        text-align: right;\n",
       "    }\n",
       "</style>\n",
       "<table border=\"1\" class=\"dataframe\">\n",
       "  <thead>\n",
       "    <tr style=\"text-align: right;\">\n",
       "      <th></th>\n",
       "      <th>_time</th>\n",
       "      <th>humidity</th>\n",
       "      <th>meanpressure</th>\n",
       "      <th>meantemp</th>\n",
       "      <th>wind_speed</th>\n",
       "    </tr>\n",
       "  </thead>\n",
       "  <tbody>\n",
       "    <tr>\n",
       "      <th>0</th>\n",
       "      <td>2017-01-01 00:00:00+00:00</td>\n",
       "      <td>85.869565</td>\n",
       "      <td>59.000000</td>\n",
       "      <td>15.913043</td>\n",
       "      <td>2.743478</td>\n",
       "    </tr>\n",
       "    <tr>\n",
       "      <th>1</th>\n",
       "      <td>2017-01-02 00:00:00+00:00</td>\n",
       "      <td>77.222222</td>\n",
       "      <td>1018.277778</td>\n",
       "      <td>NaN</td>\n",
       "      <td>NaN</td>\n",
       "    </tr>\n",
       "    <tr>\n",
       "      <th>2</th>\n",
       "      <td>2017-01-03 00:00:00+00:00</td>\n",
       "      <td>81.888889</td>\n",
       "      <td>1018.333333</td>\n",
       "      <td>NaN</td>\n",
       "      <td>4.016667</td>\n",
       "    </tr>\n",
       "    <tr>\n",
       "      <th>3</th>\n",
       "      <td>2017-01-04 00:00:00+00:00</td>\n",
       "      <td>70.050000</td>\n",
       "      <td>NaN</td>\n",
       "      <td>18.700000</td>\n",
       "      <td>NaN</td>\n",
       "    </tr>\n",
       "    <tr>\n",
       "      <th>4</th>\n",
       "      <td>2017-01-05 00:00:00+00:00</td>\n",
       "      <td>74.944444</td>\n",
       "      <td>1014.333333</td>\n",
       "      <td>18.388889</td>\n",
       "      <td>3.300000</td>\n",
       "    </tr>\n",
       "  </tbody>\n",
       "</table>\n",
       "</div>"
      ],
      "text/plain": [
       "                      _time   humidity  meanpressure   meantemp  wind_speed\n",
       "0 2017-01-01 00:00:00+00:00  85.869565     59.000000  15.913043    2.743478\n",
       "1 2017-01-02 00:00:00+00:00  77.222222   1018.277778        NaN         NaN\n",
       "2 2017-01-03 00:00:00+00:00  81.888889   1018.333333        NaN    4.016667\n",
       "3 2017-01-04 00:00:00+00:00  70.050000           NaN  18.700000         NaN\n",
       "4 2017-01-05 00:00:00+00:00  74.944444   1014.333333  18.388889    3.300000"
      ]
     },
     "metadata": {},
     "output_type": "display_data"
    }
   ],
   "source": [
    "query_api = influxdb_client.InfluxDBClient(url=url, token=token, org=org).query_api()\n",
    "query = f\"\"\"from(bucket: \"{bucket}\")\n",
    " |> range(start: {range_start}, stop: {range_end}) \n",
    " |> filter(fn: (r) => r._measurement == \"{measurement}\") \n",
    " |> pivot(rowKey:[\"_time\"], columnKey: [\"_field\"], valueColumn: \"_value\")\n",
    "\"\"\"\n",
    "data = query_api.query_data_frame(query=query, org=org)\n",
    "\n",
    "# remove meta data colums from the data\n",
    "meta_columns = ['result','table','_start','_stop','_measurement']\n",
    "data = data.drop(meta_columns, axis=1)\n",
    "display(data)"
   ]
  },
  {
   "cell_type": "code",
   "execution_count": null,
   "id": "fb50b4e2",
   "metadata": {},
   "outputs": [],
   "source": []
  }
 ],
 "metadata": {
  "kernelspec": {
   "display_name": "Python 3.8.10 64-bit",
   "language": "python",
   "name": "python3"
  },
  "language_info": {
   "codemirror_mode": {
    "name": "ipython",
    "version": 3
   },
   "file_extension": ".py",
   "mimetype": "text/x-python",
   "name": "python",
   "nbconvert_exporter": "python",
   "pygments_lexer": "ipython3",
   "version": "3.8.10"
  },
  "vscode": {
   "interpreter": {
    "hash": "916dbcbb3f70747c44a77c7bcd40155683ae19c65e1c03b4aa3499c5328201f1"
   }
  }
 },
 "nbformat": 4,
 "nbformat_minor": 5
}
